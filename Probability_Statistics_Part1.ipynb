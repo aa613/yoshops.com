{
 "cells": [
  {
   "cell_type": "code",
   "execution_count": null,
   "id": "d32c18fe",
   "metadata": {},
   "outputs": [],
   "source": [
    "      Random Variable"
   ]
  },
  {
   "cell_type": "code",
   "execution_count": null,
   "id": "a2d3898d",
   "metadata": {},
   "outputs": [],
   "source": [
    "Discrete Random Variable- If the r.v. is from set of values is Discrete R.V."
   ]
  },
  {
   "cell_type": "code",
   "execution_count": null,
   "id": "53027240",
   "metadata": {},
   "outputs": [],
   "source": [
    "1)ex-> six sides->{1,2,3,4,5,6}\n",
    "2)Tossing of coins->{H,T}"
   ]
  },
  {
   "cell_type": "code",
   "execution_count": null,
   "id": "2a0fd671",
   "metadata": {},
   "outputs": [],
   "source": [
    "1)Random Variable=X= {1,2,3,4,5,6}\n",
    "2)Random Variable=Y={H,T}"
   ]
  },
  {
   "cell_type": "code",
   "execution_count": null,
   "id": "190f0412",
   "metadata": {},
   "outputs": [],
   "source": [
    "P(x=1)=P(x=2)=1/6 "
   ]
  },
  {
   "cell_type": "code",
   "execution_count": null,
   "id": "c19c46e1",
   "metadata": {},
   "outputs": [],
   "source": [
    "P(x is even)=1/2 \n",
    "            =p(x=2)+p(x=4)+p(x=6)\n",
    "            =1/6 + 1/6 + 1/6 \n",
    "            = 3/6 \n",
    "            = 1/2"
   ]
  },
  {
   "cell_type": "code",
   "execution_count": null,
   "id": "10b787e1",
   "metadata": {},
   "outputs": [],
   "source": [
    "P(x is odd)=1/2"
   ]
  },
  {
   "cell_type": "code",
   "execution_count": null,
   "id": "18906d37",
   "metadata": {},
   "outputs": [],
   "source": [
    "Continuous Random Variable- \n",
    "3)Height of randomly picked student\n",
    " it can be from 120 cm to 190 cm or less or more\n",
    "    ex-> X=162.45  or  Y = 132.62 \n",
    "Random variable like X & Y here called as Continuous Random Variable which can take any value of real no."
   ]
  },
  {
   "cell_type": "code",
   "execution_count": null,
   "id": "f0b6fa78",
   "metadata": {},
   "outputs": [],
   "source": []
  },
  {
   "cell_type": "code",
   "execution_count": null,
   "id": "8b7f107c",
   "metadata": {},
   "outputs": [],
   "source": [
    "2) Outlier - If there is any no. in the list which is odd or out of range then it is called as outlier.\n",
    "ex->{1.25,1.45,1.66,18.6,1.95}"
   ]
  },
  {
   "cell_type": "code",
   "execution_count": null,
   "id": "e124a375",
   "metadata": {},
   "outputs": [],
   "source": []
  },
  {
   "cell_type": "code",
   "execution_count": null,
   "id": "754fede6",
   "metadata": {},
   "outputs": [],
   "source": [
    "3)Population & Sample\n",
    "Population = Set of all the people in the world ~ 7B\n",
    "mean of population = u\n",
    "So we can not measure ~7B people but we can measure its sample of~1000 people\n",
    "mean of sample  = x^\n",
    "\n",
    "As the sample size increases\n",
    "  x^ = u\n",
    "\n",
    "Sample is subset of population & Population is Universal set.\n"
   ]
  },
  {
   "cell_type": "code",
   "execution_count": null,
   "id": "424afb3f",
   "metadata": {},
   "outputs": [],
   "source": [
    "4)Gaussian/Normal Distribution & its PDF(Probability density function)\n",
    " ->Bell shaped curved = PDF of a gaussian dist. r.v.\n",
    "Parameters of a gaussian dist.= u,6^2 \n",
    "                             X ~ N(u,6^2 ) # ~ follows, N -Normal/Gaussian ,u-mean ,6^ - var\n",
    "    P(x)=y=exp(-x)^2"
   ]
  },
  {
   "cell_type": "code",
   "execution_count": null,
   "id": "4b082f86",
   "metadata": {},
   "outputs": [],
   "source": [
    "5)Gaussian/Normal Distribution & its CDF(Cumulative density function)\n",
    " 68-95-99.7 Rule\n",
    "    \n",
    "From above rule we can directly tell how the data is distributed in %\n"
   ]
  },
  {
   "cell_type": "code",
   "execution_count": null,
   "id": "b1dc762b",
   "metadata": {},
   "outputs": [],
   "source": [
    "6)Symmetric Distribution \n",
    "ex-> Gaussian distibution \n",
    "Right & left side should be mirror image of each other."
   ]
  },
  {
   "cell_type": "code",
   "execution_count": null,
   "id": "08750902",
   "metadata": {},
   "outputs": [],
   "source": [
    "7) Skewness\n",
    "It is measure of assymetry & in which direction.\n",
    "It measures how tailed & in which direction.\n",
    "Tailed at left side = -ve skewed or left skewed\n",
    "Tailed at Right side = +ve skewed or right skewed"
   ]
  }
 ],
 "metadata": {
  "kernelspec": {
   "display_name": "Python 3 (ipykernel)",
   "language": "python",
   "name": "python3"
  },
  "language_info": {
   "codemirror_mode": {
    "name": "ipython",
    "version": 3
   },
   "file_extension": ".py",
   "mimetype": "text/x-python",
   "name": "python",
   "nbconvert_exporter": "python",
   "pygments_lexer": "ipython3",
   "version": "3.9.13"
  }
 },
 "nbformat": 4,
 "nbformat_minor": 5
}
